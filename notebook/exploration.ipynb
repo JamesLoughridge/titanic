{
  "cells": [
    {
      "cell_type": "code",
      "source": [
        "%matplotlib inline\n",
        "\n",
        "import pandas as pd\n",
        "import matplotlib.pyplot as plt\n",
        "import seaborn as sns\n",
        "import os\n",
        "\n",
        "os.chdir(\"/Users/jamesl/Workspace/titanic\")\n",
        "sns.set()\n",
        "\nimport data"
      ],
      "outputs": [],
      "execution_count": 1,
      "metadata": {}
    },
    {
      "cell_type": "markdown",
      "source": [
        "# Reading the data\n",
        "The first step will be to read in the data from data/raw/train.csv into a pandas dataframe. "
      ],
      "metadata": {}
    },
    {
      "cell_type": "code",
      "source": [
        "train = pd.read_csv(\"data/raw/train.csv\")"
      ],
      "outputs": [],
      "execution_count": 2,
      "metadata": {}
    },
    {
      "cell_type": "code",
      "source": [
        "train.head()"
      ],
      "outputs": [
        {
          "output_type": "execute_result",
          "execution_count": 3,
          "data": {
            "text/plain": [
              "   PassengerId  Survived  Pclass  \\\n",
              "0            1         0       3   \n",
              "1            2         1       1   \n",
              "2            3         1       3   \n",
              "3            4         1       1   \n",
              "4            5         0       3   \n",
              "\n",
              "                                                Name     Sex   Age  SibSp  \\\n",
              "0                            Braund, Mr. Owen Harris    male  22.0      1   \n",
              "1  Cumings, Mrs. John Bradley (Florence Briggs Th...  female  38.0      1   \n",
              "2                             Heikkinen, Miss. Laina  female  26.0      0   \n",
              "3       Futrelle, Mrs. Jacques Heath (Lily May Peel)  female  35.0      1   \n",
              "4                           Allen, Mr. William Henry    male  35.0      0   \n",
              "\n",
              "   Parch            Ticket     Fare Cabin Embarked  \n",
              "0      0         A/5 21171   7.2500   NaN        S  \n",
              "1      0          PC 17599  71.2833   C85        C  \n",
              "2      0  STON/O2. 3101282   7.9250   NaN        S  \n",
              "3      0            113803  53.1000  C123        S  \n",
              "4      0            373450   8.0500   NaN        S  "
            ],
            "text/html": [
              "<div>\n",
              "<style scoped>\n",
              "    .dataframe tbody tr th:only-of-type {\n",
              "        vertical-align: middle;\n",
              "    }\n",
              "\n",
              "    .dataframe tbody tr th {\n",
              "        vertical-align: top;\n",
              "    }\n",
              "\n",
              "    .dataframe thead th {\n",
              "        text-align: right;\n",
              "    }\n",
              "</style>\n",
              "<table border=\"1\" class=\"dataframe\">\n",
              "  <thead>\n",
              "    <tr style=\"text-align: right;\">\n",
              "      <th></th>\n",
              "      <th>PassengerId</th>\n",
              "      <th>Survived</th>\n",
              "      <th>Pclass</th>\n",
              "      <th>Name</th>\n",
              "      <th>Sex</th>\n",
              "      <th>Age</th>\n",
              "      <th>SibSp</th>\n",
              "      <th>Parch</th>\n",
              "      <th>Ticket</th>\n",
              "      <th>Fare</th>\n",
              "      <th>Cabin</th>\n",
              "      <th>Embarked</th>\n",
              "    </tr>\n",
              "  </thead>\n",
              "  <tbody>\n",
              "    <tr>\n",
              "      <th>0</th>\n",
              "      <td>1</td>\n",
              "      <td>0</td>\n",
              "      <td>3</td>\n",
              "      <td>Braund, Mr. Owen Harris</td>\n",
              "      <td>male</td>\n",
              "      <td>22.0</td>\n",
              "      <td>1</td>\n",
              "      <td>0</td>\n",
              "      <td>A/5 21171</td>\n",
              "      <td>7.2500</td>\n",
              "      <td>NaN</td>\n",
              "      <td>S</td>\n",
              "    </tr>\n",
              "    <tr>\n",
              "      <th>1</th>\n",
              "      <td>2</td>\n",
              "      <td>1</td>\n",
              "      <td>1</td>\n",
              "      <td>Cumings, Mrs. John Bradley (Florence Briggs Th...</td>\n",
              "      <td>female</td>\n",
              "      <td>38.0</td>\n",
              "      <td>1</td>\n",
              "      <td>0</td>\n",
              "      <td>PC 17599</td>\n",
              "      <td>71.2833</td>\n",
              "      <td>C85</td>\n",
              "      <td>C</td>\n",
              "    </tr>\n",
              "    <tr>\n",
              "      <th>2</th>\n",
              "      <td>3</td>\n",
              "      <td>1</td>\n",
              "      <td>3</td>\n",
              "      <td>Heikkinen, Miss. Laina</td>\n",
              "      <td>female</td>\n",
              "      <td>26.0</td>\n",
              "      <td>0</td>\n",
              "      <td>0</td>\n",
              "      <td>STON/O2. 3101282</td>\n",
              "      <td>7.9250</td>\n",
              "      <td>NaN</td>\n",
              "      <td>S</td>\n",
              "    </tr>\n",
              "    <tr>\n",
              "      <th>3</th>\n",
              "      <td>4</td>\n",
              "      <td>1</td>\n",
              "      <td>1</td>\n",
              "      <td>Futrelle, Mrs. Jacques Heath (Lily May Peel)</td>\n",
              "      <td>female</td>\n",
              "      <td>35.0</td>\n",
              "      <td>1</td>\n",
              "      <td>0</td>\n",
              "      <td>113803</td>\n",
              "      <td>53.1000</td>\n",
              "      <td>C123</td>\n",
              "      <td>S</td>\n",
              "    </tr>\n",
              "    <tr>\n",
              "      <th>4</th>\n",
              "      <td>5</td>\n",
              "      <td>0</td>\n",
              "      <td>3</td>\n",
              "      <td>Allen, Mr. William Henry</td>\n",
              "      <td>male</td>\n",
              "      <td>35.0</td>\n",
              "      <td>0</td>\n",
              "      <td>0</td>\n",
              "      <td>373450</td>\n",
              "      <td>8.0500</td>\n",
              "      <td>NaN</td>\n",
              "      <td>S</td>\n",
              "    </tr>\n",
              "  </tbody>\n",
              "</table>\n",
              "</div>"
            ]
          },
          "metadata": {}
        }
      ],
      "execution_count": 3,
      "metadata": {}
    },
    {
      "cell_type": "markdown",
      "source": [
        "## Looking for Missing Data and Taking a First Look\n",
        "Next I will look for any missing data that we may have. Since most of the cabin information is missing, I may want to consider dropping that column. However, the letter infront of the cabin number indicates what deck someone was on in the titanic. I belive there may be a strong correlation between deck and survival and fare. However, I will explore that later. "
      ],
      "metadata": {}
    },
    {
      "cell_type": "code",
      "source": [
        "data.find_missing_values(train)"
      ],
      "outputs": [
        {
          "output_type": "execute_result",
          "execution_count": 4,
          "data": {
            "text/plain": [
              "{'PassengerId': 0,\n",
              " 'Survived': 0,\n",
              " 'Pclass': 0,\n",
              " 'Name': 0,\n",
              " 'Sex': 0,\n",
              " 'Age': 177,\n",
              " 'SibSp': 0,\n",
              " 'Parch': 0,\n",
              " 'Ticket': 0,\n",
              " 'Fare': 0,\n",
              " 'Cabin': 687,\n",
              " 'Embarked': 2}"
            ]
          },
          "metadata": {}
        }
      ],
      "execution_count": 4,
      "metadata": {
        "inputHidden": false,
        "outputHidden": false
      }
    },
    {
      "cell_type": "code",
      "source": [
        "train.loc[:, \"Ticket\"].sample(n=40)"
      ],
      "outputs": [
        {
          "output_type": "execute_result",
          "execution_count": 5,
          "data": {
            "text/plain": [
              "759               110152\n",
              "65                  2661\n",
              "803                 2625\n",
              "730                24160\n",
              "396               350407\n",
              "507               111427\n",
              "772          S.O./P.P. 3\n",
              "291                11967\n",
              "355               345783\n",
              "530                26360\n",
              "617            A/5. 3336\n",
              "488           A.5. 18509\n",
              "361        SC/PARIS 2167\n",
              "62                 36973\n",
              "301               367226\n",
              "351               113510\n",
              "777               364516\n",
              "310                11767\n",
              "473      SC/AH Basle 541\n",
              "588                14973\n",
              "294               349233\n",
              "504               110152\n",
              "618               230136\n",
              "421           A/5. 13032\n",
              "860               350026\n",
              "662                 5727\n",
              "58            C.A. 34651\n",
              "639               376564\n",
              "191                28424\n",
              "875                 2667\n",
              "690                17474\n",
              "796                17465\n",
              "429    SOTON/O.Q. 392078\n",
              "314         F.C.C. 13529\n",
              "705               250655\n",
              "674               239856\n",
              "341                19950\n",
              "43         SC/Paris 2123\n",
              "469                 2666\n",
              "313               349243\n",
              "Name: Ticket, dtype: object"
            ]
          },
          "metadata": {}
        }
      ],
      "execution_count": 5,
      "metadata": {
        "inputHidden": false,
        "outputHidden": false
      }
    },
    {
      "cell_type": "code",
      "source": [
        "train.loc[:, \"Name\"].sample(n=40)"
      ],
      "outputs": [
        {
          "output_type": "execute_result",
          "execution_count": 6,
          "data": {
            "text/plain": [
              "313                               Hendekovic, Mr. Ignjac\n",
              "458                                  Toomey, Miss. Ellen\n",
              "597                                  Johnson, Mr. Alfred\n",
              "81                           Sheerlinck, Mr. Jan Baptist\n",
              "389                                Lehmann, Miss. Bertha\n",
              "546                    Beane, Mrs. Edward (Ethel Clarke)\n",
              "819                         Skoog, Master. Karl Thorsten\n",
              "101                     Petroff, Mr. Pastcho (\"Pentcho\")\n",
              "161    Watt, Mrs. James (Elizabeth \"Bessie\" Inglis Mi...\n",
              "827                                Mallet, Master. Andre\n",
              "435                            Carter, Miss. Lucile Polk\n",
              "323    Caldwell, Mrs. Albert Francis (Sylvia Mae Harb...\n",
              "31        Spencer, Mrs. William Augustus (Marie Eugenie)\n",
              "860                              Hansen, Mr. Claus Peter\n",
              "171                                 Rice, Master. Arthur\n",
              "38                    Vander Planke, Miss. Augusta Maria\n",
              "516                         Lemore, Mrs. (Amelia Milley)\n",
              "240                                Zabour, Miss. Thamine\n",
              "584                                  Paulner, Mr. Uscher\n",
              "131                       Coelho, Mr. Domingos Fernandeo\n",
              "710     Mayne, Mlle. Berthe Antonine (\"Mrs de Villiers\")\n",
              "626                       Kirkland, Rev. Charles Leonard\n",
              "791                                  Gaskell, Mr. Alfred\n",
              "839                                 Marechal, Mr. Pierre\n",
              "650                                    Mitkoff, Mr. Mito\n",
              "613                                     Horgan, Mr. John\n",
              "243                        Maenpaa, Mr. Matti Alexanteri\n",
              "822                      Reuchlin, Jonkheer. John George\n",
              "678              Goodwin, Mrs. Frederick (Augusta Tyler)\n",
              "712                             Taylor, Mr. Elmer Zebley\n",
              "673                                Wilhelms, Mr. Charles\n",
              "783                               Johnston, Mr. Andrew G\n",
              "749                              Connaghton, Mr. Michael\n",
              "529                          Hocking, Mr. Richard George\n",
              "505           Penasco y Castellana, Mr. Victor de Satode\n",
              "45                              Rogers, Mr. William John\n",
              "632                            Stahelin-Maeglin, Dr. Max\n",
              "381                          Nakid, Miss. Maria (\"Mary\")\n",
              "23                          Sloper, Mr. William Thompson\n",
              "731                             Hassan, Mr. Houssein G N\n",
              "Name: Name, dtype: object"
            ]
          },
          "metadata": {}
        }
      ],
      "execution_count": 6,
      "metadata": {
        "inputHidden": false,
        "outputHidden": false
      }
    },
    {
      "cell_type": "markdown",
      "source": [
        "Every passenger seems to have a title attached to them. Next I will make a separate column containing their titles."
      ],
      "metadata": {
        "inputHidden": false,
        "outputHidden": false
      }
    },
    {
      "cell_type": "code",
      "source": [
        "train['Title'] = data.find_title(train)"
      ],
      "outputs": [],
      "execution_count": 7,
      "metadata": {}
    },
    {
      "cell_type": "code",
      "source": [],
      "outputs": [],
      "execution_count": null,
      "metadata": {
        "collapsed": false,
        "outputHidden": false,
        "inputHidden": false
      }
    }
  ],
  "metadata": {
    "kernel_info": {
      "name": "titanic"
    },
    "kernelspec": {
      "name": "titanic",
      "language": "python",
      "display_name": "titanic"
    },
    "language_info": {
      "name": "python",
      "version": "3.7.2",
      "mimetype": "text/x-python",
      "codemirror_mode": {
        "name": "ipython",
        "version": 3
      },
      "pygments_lexer": "ipython3",
      "nbconvert_exporter": "python",
      "file_extension": ".py"
    },
    "nteract": {
      "version": "0.12.3"
    }
  },
  "nbformat": 4,
  "nbformat_minor": 2
}